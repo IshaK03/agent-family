{
 "cells": [
  {
   "cell_type": "markdown",
   "id": "1873fb08",
   "metadata": {},
   "source": [
    "#### Import necessary libraries"
   ]
  },
  {
   "cell_type": "code",
   "execution_count": null,
   "id": "4025543a",
   "metadata": {},
   "outputs": [
    {
     "name": "stdout",
     "output_type": "stream",
     "text": [
      "Libraries imported.\n"
     ]
    }
   ],
   "source": [
    "import os\n",
    "import asyncio\n",
    "from google.adk.agents import Agent\n",
    "from google.adk.sessions import InMemorySessionService\n",
    "from google.adk.runners import Runner\n",
    "from google.genai import types # For creating message Content/Parts\n",
    "\n",
    "import warnings\n",
    "# Ignore all warnings\n",
    "warnings.filterwarnings(\"ignore\")\n",
    "\n",
    "import logging\n",
    "logging.basicConfig(level=logging.ERROR)\n",
    "\n",
    "print(\"Libraries imported.\")"
   ]
  },
  {
   "cell_type": "code",
   "execution_count": 2,
   "id": "91f604e4",
   "metadata": {},
   "outputs": [
    {
     "name": "stdout",
     "output_type": "stream",
     "text": [
      "Google API Key set: Yes\n"
     ]
    }
   ],
   "source": [
    "from dotenv import load_dotenv\n",
    "\n",
    "# Load environment variables from .env file\n",
    "load_dotenv()\n",
    "\n",
    "print(f\"Google API Key set: {'Yes' if os.environ.get('GOOGLE_API_KEY') and os.environ['GOOGLE_API_KEY'] != 'YOUR_GOOGLE_API_KEY' else 'No (REPLACE PLACEHOLDER!)'}\")"
   ]
  },
  {
   "cell_type": "markdown",
   "id": "2fcf16cd",
   "metadata": {},
   "source": [
    "#### Define Model Constants for easier use\n",
    "More supported models can be referenced here: https://ai.google.dev/gemini-api/docs/models#model-variations"
   ]
  },
  {
   "cell_type": "code",
   "execution_count": null,
   "id": "224e9e80",
   "metadata": {},
   "outputs": [
    {
     "name": "stdout",
     "output_type": "stream",
     "text": [
      "\n",
      "Environment configured.\n"
     ]
    }
   ],
   "source": [
    "MODEL_GEMINI_2_0_FLASH = \"gemini-2.0-flash\"\n",
    "\n",
    "print(\"\\nEnvironment configured.\")"
   ]
  },
  {
   "cell_type": "markdown",
   "id": "86497908",
   "metadata": {},
   "source": [
    "#### Define the get_weather Tool"
   ]
  },
  {
   "cell_type": "code",
   "execution_count": null,
   "id": "8c4976eb",
   "metadata": {},
   "outputs": [
    {
     "name": "stdout",
     "output_type": "stream",
     "text": [
      "--- Tool: get_weather called for city: New York ---\n",
      "{'status': 'success', 'report': 'The weather in New York is sunny with a temperature of 25°C.'}\n",
      "--- Tool: get_weather called for city: Paris ---\n",
      "{'status': 'error', 'error_message': \"Sorry, I don't have weather information for 'Paris'.\"}\n"
     ]
    }
   ],
   "source": [
    "def get_weather(city: str) -> dict:\n",
    "    \"\"\"Retrieves the current weather report for a specified city.\n",
    "\n",
    "    Args:\n",
    "        city (str): The name of the city (e.g., \"New York\", \"London\", \"Tokyo\").\n",
    "\n",
    "    Returns:\n",
    "        dict: A dictionary containing the weather information.\n",
    "              Includes a 'status' key ('success' or 'error').\n",
    "              If 'success', includes a 'report' key with weather details.\n",
    "              If 'error', includes an 'error_message' key.\n",
    "    \"\"\"\n",
    "    print(f\"--- Tool: get_weather called for city: {city} ---\") # Log tool execution\n",
    "    city_normalized = city.lower().replace(\" \", \"\") # Basic normalization\n",
    "\n",
    "    # Mock weather data\n",
    "    mock_weather_db = {\n",
    "        \"newyork\": {\"status\": \"success\", \"report\": \"The weather in New York is sunny with a temperature of 25°C.\"},\n",
    "        \"london\": {\"status\": \"success\", \"report\": \"It's cloudy in London with a temperature of 15°C.\"},\n",
    "        \"tokyo\": {\"status\": \"success\", \"report\": \"Tokyo is experiencing light rain and a temperature of 18°C.\"},\n",
    "    }\n",
    "\n",
    "    if city_normalized in mock_weather_db:\n",
    "        return mock_weather_db[city_normalized]\n",
    "    else:\n",
    "        return {\"status\": \"error\", \"error_message\": f\"Sorry, I don't have weather information for '{city}'.\"}\n",
    "\n",
    "# Example tool usage (optional test)\n",
    "print(get_weather(\"New York\"))\n",
    "print(get_weather(\"Paris\"))"
   ]
  },
  {
   "cell_type": "markdown",
   "id": "83a68cde",
   "metadata": {},
   "source": [
    "#### Define the Weather Agent"
   ]
  },
  {
   "cell_type": "code",
   "execution_count": null,
   "id": "c4482cf7",
   "metadata": {},
   "outputs": [
    {
     "name": "stdout",
     "output_type": "stream",
     "text": [
      "Agent 'weather_agent_v1' created using model 'gemini-2.0-flash'.\n"
     ]
    }
   ],
   "source": [
    "# Use one of the model constants defined earlier\n",
    "AGENT_MODEL = MODEL_GEMINI_2_0_FLASH # Starting with Gemini\n",
    "\n",
    "weather_agent = Agent(\n",
    "    name=\"weather_agent_v1\",\n",
    "    model=AGENT_MODEL, # Can be a string for Gemini or a LiteLlm object\n",
    "    description=\"Provides weather information for specific cities.\",\n",
    "    instruction=\"You are a helpful weather assistant. \"\n",
    "                \"When the user asks for the weather in a specific city, \"\n",
    "                \"use the 'get_weather' tool to find the information. \"\n",
    "                \"If the tool returns an error, inform the user politely. \"\n",
    "                \"If the tool is successful, present the weather report clearly.\",\n",
    "    tools=[get_weather], # Pass the function directly\n",
    ")\n",
    "\n",
    "print(f\"Agent '{weather_agent.name}' created using model '{AGENT_MODEL}'.\")"
   ]
  },
  {
   "cell_type": "markdown",
   "id": "68a4a800",
   "metadata": {},
   "source": [
    "#### Setup Session Service and Runner"
   ]
  },
  {
   "cell_type": "code",
   "execution_count": null,
   "id": "cce9dec2",
   "metadata": {},
   "outputs": [
    {
     "name": "stdout",
     "output_type": "stream",
     "text": [
      "Session created: App='weather_tutorial_app', User='user_1', Session='session_001'\n",
      "Runner created for agent 'weather_agent_v1'.\n"
     ]
    }
   ],
   "source": [
    "# --- Session Management ---\n",
    "# Key Concept: SessionService stores conversation history & state.\n",
    "# InMemorySessionService is simple, non-persistent storage for this tutorial.\n",
    "session_service = InMemorySessionService()\n",
    "\n",
    "# Define constants for identifying the interaction context\n",
    "APP_NAME = \"weather_tutorial_app\"\n",
    "USER_ID = \"user_1\"\n",
    "SESSION_ID = \"session_001\" # Using a fixed ID for simplicity\n",
    "\n",
    "# Create the specific session where the conversation will happen\n",
    "session = await session_service.create_session(\n",
    "    app_name=APP_NAME,\n",
    "    user_id=USER_ID,\n",
    "    session_id=SESSION_ID\n",
    ")\n",
    "print(f\"Session created: App='{APP_NAME}', User='{USER_ID}', Session='{SESSION_ID}'\")\n",
    "\n",
    "# --- Runner ---\n",
    "# Key Concept: Runner orchestrates the agent execution loop.\n",
    "runner = Runner(\n",
    "    agent=weather_agent, # The agent we want to run\n",
    "    app_name=APP_NAME,   # Associates runs with our app\n",
    "    session_service=session_service # Uses our session manager\n",
    ")\n",
    "print(f\"Runner created for agent '{runner.agent.name}'.\")\n"
   ]
  },
  {
   "cell_type": "markdown",
   "id": "54f822ab",
   "metadata": {},
   "source": [
    "#### Define Agent Interaction Function"
   ]
  },
  {
   "cell_type": "code",
   "execution_count": null,
   "id": "152f05af",
   "metadata": {},
   "outputs": [],
   "source": [
    "from google.genai import types # For creating message Content/Parts\n",
    "\n",
    "async def call_agent_async(query: str, runner, user_id, session_id):\n",
    "  \"\"\"Sends a query to the agent and prints the final response.\"\"\"\n",
    "  print(f\"\\n>>> User Query: {query}\")\n",
    "\n",
    "  # Prepare the user's message in ADK format\n",
    "  content = types.Content(role='user', parts=[types.Part(text=query)])\n",
    "\n",
    "  final_response_text = \"Agent did not produce a final response.\" # Default\n",
    "\n",
    "  # Key Concept: run_async executes the agent logic and yields Events.\n",
    "  # We iterate through events to find the final answer.\n",
    "  async for event in runner.run_async(user_id=user_id, session_id=session_id, new_message=content):\n",
    "      # You can uncomment the line below to see *all* events during execution\n",
    "      print(f\"  [Event] Author: {event.author}, Type: {type(event).__name__}, Final: {event.is_final_response()}, Content: {event.content}\")\n",
    "\n",
    "      # Key Concept: is_final_response() marks the concluding message for the turn.\n",
    "      if event.is_final_response():\n",
    "          if event.content and event.content.parts:\n",
    "             # Assuming text response in the first part\n",
    "             final_response_text = event.content.parts[0].text\n",
    "          elif event.actions and event.actions.escalate: # Handle potential errors/escalations\n",
    "             final_response_text = f\"Agent escalated: {event.error_message or 'No specific message.'}\"\n",
    "          # Add more checks here if needed (e.g., specific error codes)\n",
    "          break # Stop processing events once the final response is found\n",
    "\n",
    "  print(f\"<<< Agent Response: {final_response_text}\")"
   ]
  },
  {
   "cell_type": "markdown",
   "id": "a257591f",
   "metadata": {},
   "source": [
    "#### Run the Initial Conversation"
   ]
  },
  {
   "cell_type": "code",
   "execution_count": null,
   "id": "f350474d",
   "metadata": {},
   "outputs": [
    {
     "name": "stdout",
     "output_type": "stream",
     "text": [
      "\n",
      ">>> User Query: What is the weather like in London?\n",
      "  [Event] Author: weather_agent_v1, Type: Event, Final: False, Content: parts=[Part(\n",
      "  function_call=FunctionCall(\n",
      "    args={\n",
      "      'city': 'London'\n",
      "    },\n",
      "    id='adk-b535b056-c125-402f-8cf7-a4f2eb24b26c',\n",
      "    name='get_weather'\n",
      "  )\n",
      ")] role='model'\n",
      "--- Tool: get_weather called for city: London ---\n",
      "  [Event] Author: weather_agent_v1, Type: Event, Final: False, Content: parts=[Part(\n",
      "  function_response=FunctionResponse(\n",
      "    id='adk-b535b056-c125-402f-8cf7-a4f2eb24b26c',\n",
      "    name='get_weather',\n",
      "    response={\n",
      "      'report': \"It's cloudy in London with a temperature of 15°C.\",\n",
      "      'status': 'success'\n",
      "    }\n",
      "  )\n",
      ")] role='user'\n",
      "  [Event] Author: weather_agent_v1, Type: Event, Final: True, Content: parts=[Part(\n",
      "  text=\"\"\"The weather in New York is sunny with a temperature of 25°C.\n",
      "\"\"\"\n",
      ")] role='model'\n",
      "<<< Agent Response: The weather in New York is sunny with a temperature of 25°C.\n",
      "\n",
      "\n",
      ">>> User Query: How about Paris?\n",
      "  [Event] Author: weather_agent_v1, Type: Event, Final: False, Content: parts=[Part(\n",
      "  function_call=FunctionCall(\n",
      "    args={\n",
      "      'city': 'Paris'\n",
      "    },\n",
      "    id='adk-f46b0951-99ff-493e-bb0f-d06eddf5cc14',\n",
      "    name='get_weather'\n",
      "  )\n",
      ")] role='model'\n",
      "--- Tool: get_weather called for city: Paris ---\n",
      "  [Event] Author: weather_agent_v1, Type: Event, Final: False, Content: parts=[Part(\n",
      "  function_response=FunctionResponse(\n",
      "    id='adk-f46b0951-99ff-493e-bb0f-d06eddf5cc14',\n",
      "    name='get_weather',\n",
      "    response={\n",
      "      'error_message': \"Sorry, I don't have weather information for 'Paris'.\",\n",
      "      'status': 'error'\n",
      "    }\n",
      "  )\n",
      ")] role='user'\n",
      "  [Event] Author: weather_agent_v1, Type: Event, Final: True, Content: parts=[Part(\n",
      "  text=\"\"\"I am sorry, I don't have weather information for Paris.\n",
      "\"\"\"\n",
      ")] role='model'\n",
      "<<< Agent Response: I am sorry, I don't have weather information for Paris.\n",
      "\n",
      "\n",
      ">>> User Query: Tell me the weather in New York\n",
      "  [Event] Author: weather_agent_v1, Type: Event, Final: False, Content: parts=[Part(\n",
      "  function_call=FunctionCall(\n",
      "    args={\n",
      "      'city': 'New York'\n",
      "    },\n",
      "    id='adk-403a6200-4042-436d-82f8-f451ee9fd7b1',\n",
      "    name='get_weather'\n",
      "  )\n",
      ")] role='model'\n",
      "--- Tool: get_weather called for city: New York ---\n",
      "  [Event] Author: weather_agent_v1, Type: Event, Final: False, Content: parts=[Part(\n",
      "  function_response=FunctionResponse(\n",
      "    id='adk-403a6200-4042-436d-82f8-f451ee9fd7b1',\n",
      "    name='get_weather',\n",
      "    response={\n",
      "      'report': 'The weather in New York is sunny with a temperature of 25°C.',\n",
      "      'status': 'success'\n",
      "    }\n",
      "  )\n",
      ")] role='user'\n",
      "  [Event] Author: weather_agent_v1, Type: Event, Final: True, Content: parts=[Part(\n",
      "  text=\"\"\"The weather in New York is sunny with a temperature of 25°C.\n",
      "\"\"\"\n",
      ")] role='model'\n",
      "<<< Agent Response: The weather in New York is sunny with a temperature of 25°C.\n",
      "\n"
     ]
    }
   ],
   "source": [
    "# We need an async function to await our interaction helper\n",
    "async def run_conversation():\n",
    "    await call_agent_async(\"What is the weather like in London?\",\n",
    "                                       runner=runner,\n",
    "                                       user_id=USER_ID,\n",
    "                                       session_id=SESSION_ID)\n",
    "\n",
    "    await call_agent_async(\"How about Paris?\",\n",
    "                                       runner=runner,\n",
    "                                       user_id=USER_ID,\n",
    "                                       session_id=SESSION_ID) # Expecting the tool's error message\n",
    "\n",
    "    await call_agent_async(\"Tell me the weather in New York\",\n",
    "                                       runner=runner,\n",
    "                                       user_id=USER_ID,\n",
    "                                       session_id=SESSION_ID)\n",
    "\n",
    "# Execute the conversation using await in an async context (like Colab/Jupyter)\n",
    "await run_conversation()\n",
    "\n",
    "# --- OR ---\n",
    "\n",
    "# Uncomment the following lines if running as a standard Python script (.py file):\n",
    "# import asyncio\n",
    "# if __name__ == \"__main__\":\n",
    "#     try:\n",
    "#         asyncio.run(run_conversation())\n",
    "#     except Exception as e:\n",
    "#         print(f\"An error occurred: {e}\")"
   ]
  }
 ],
 "metadata": {
  "kernelspec": {
   "display_name": "venv-adk",
   "language": "python",
   "name": "python3"
  },
  "language_info": {
   "codemirror_mode": {
    "name": "ipython",
    "version": 3
   },
   "file_extension": ".py",
   "mimetype": "text/x-python",
   "name": "python",
   "nbconvert_exporter": "python",
   "pygments_lexer": "ipython3",
   "version": "3.11.4"
  }
 },
 "nbformat": 4,
 "nbformat_minor": 5
}
